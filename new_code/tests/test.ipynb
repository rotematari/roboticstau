{
 "cells": [
  {
   "cell_type": "code",
   "execution_count": 8,
   "metadata": {},
   "outputs": [],
   "source": [
    "import torch\n",
    "import torch.nn as nn \n",
    "from torch.utils.data import Dataset, DataLoader,TensorDataset\n",
    "import  torchvision.transforms as transforms\n",
    "import numpy as np\n",
    "import pandas as pd\n",
    "\n",
    "from os import listdir\n",
    "from os.path import isfile, join\n",
    "# import data_proses\n",
    "import argparse\n",
    "import yaml\n",
    "with open(r'C:\\Users\\User\\Desktop\\Rotem\\roboticstau-2\\new_code\\config.yaml', 'r') as f:\n",
    "    args = yaml.safe_load(f)\n",
    "\n",
    "config = argparse.Namespace(**args)"
   ]
  },
  {
   "cell_type": "code",
   "execution_count": 9,
   "metadata": {},
   "outputs": [
    {
     "name": "stderr",
     "output_type": "stream",
     "text": [
      "C:\\Users\\Public\\Documents\\Wondershare\\CreatorTemp\\ipykernel_14080\\964501206.py:1: DtypeWarning: Columns (5,10,15,18,29,32,33,35,39,40,41,42,63) have mixed types. Specify dtype option on import or set low_memory=False.\n",
      "  df = pd.read_csv(r'C:\\Users\\User\\Desktop\\Rotem\\roboticstau-2\\new_code\\data\\data\\02_Aug_2023_11_46.csv')\n"
     ]
    }
   ],
   "source": [
    "df = pd.read_csv(r'C:\\Users\\User\\Desktop\\Rotem\\roboticstau-2\\new_code\\data\\data\\02_Aug_2023_11_46.csv')"
   ]
  },
  {
   "cell_type": "code",
   "execution_count": 11,
   "metadata": {},
   "outputs": [],
   "source": [
    "\n",
    "def is_not_numeric(x):\n",
    "    try:\n",
    "        float(x)\n",
    "        return False\n",
    "    except ValueError:\n",
    "        return True\n",
    "    \n",
    "\n",
    "def print_not_numeric_vals(df):\n",
    "\n",
    "    mask = df.drop(['sesion_time_stamp'],axis=1)[config.fmg_index+config.first_positoin_label_inedx].applymap(is_not_numeric)\n",
    "    non_numeric_values = df[mask].stack().dropna()\n",
    "    print(non_numeric_values)\n",
    "\n",
    "    return non_numeric_values    "
   ]
  },
  {
   "cell_type": "code",
   "execution_count": 15,
   "metadata": {},
   "outputs": [
    {
     "name": "stdout",
     "output_type": "stream",
     "text": [
      "943   M3x    02_Aug_2023_11_46\n",
      "1319  S16              0.03.00\n",
      "      M3z    02_Aug_2023_11_46\n",
      "1485  M2x    02_Aug_2023_11_46\n",
      "1974  M4z    02_Aug_2023_11_46\n",
      "2115  M4x    02_Aug_2023_11_46\n",
      "2640  M1x    02_Aug_2023_11_46\n",
      "3284  M3z    02_Aug_2023_11_46\n",
      "5473  S11              10.1.00\n",
      "      M3y    02_Aug_2023_11_46\n",
      "5725  S19                1..00\n",
      "      M3x    02_Aug_2023_11_46\n",
      "6614  S6              5.001.00\n",
      "      M1x    02_Aug_2023_11_46\n",
      "7032  S30    02_Aug_2023_11_46\n",
      "7730  M4y    02_Aug_2023_11_46\n",
      "9024  M4z    02_Aug_2023_11_46\n",
      "9369  M1y    02_Aug_2023_11_46\n",
      "9674  M3x    02_Aug_2023_11_46\n",
      "dtype: object\n"
     ]
    }
   ],
   "source": [
    "non = print_not_numeric_vals(df)\n"
   ]
  },
  {
   "cell_type": "code",
   "execution_count": 25,
   "metadata": {},
   "outputs": [],
   "source": [
    "x = non.index.to_numpy()"
   ]
  },
  {
   "cell_type": "code",
   "execution_count": null,
   "metadata": {},
   "outputs": [],
   "source": [
    "for i in range(len(x)):\n",
    "    print(x[i][0])\n",
    "    "
   ]
  },
  {
   "cell_type": "code",
   "execution_count": 40,
   "metadata": {},
   "outputs": [
    {
     "data": {
      "text/plain": [
       "[943,\n",
       " 1319,\n",
       " 1319,\n",
       " 1485,\n",
       " 1974,\n",
       " 2115,\n",
       " 2640,\n",
       " 3284,\n",
       " 5473,\n",
       " 5473,\n",
       " 5725,\n",
       " 5725,\n",
       " 6614,\n",
       " 6614,\n",
       " 7032,\n",
       " 7730,\n",
       " 9024,\n",
       " 9369,\n",
       " 9674]"
      ]
     },
     "execution_count": 40,
     "metadata": {},
     "output_type": "execute_result"
    }
   ],
   "source": [
    "index_list = [x[i][0] for i in range(len(x)) ]\n",
    "\n",
    "index_list"
   ]
  },
  {
   "cell_type": "code",
   "execution_count": null,
   "metadata": {},
   "outputs": [],
   "source": []
  },
  {
   "cell_type": "code",
   "execution_count": 43,
   "metadata": {},
   "outputs": [],
   "source": [
    "y = df.drop(index_list).reset_index(drop=True)"
   ]
  },
  {
   "cell_type": "code",
   "execution_count": 45,
   "metadata": {},
   "outputs": [
    {
     "name": "stdout",
     "output_type": "stream",
     "text": [
      "Series([], dtype: object)\n"
     ]
    },
    {
     "data": {
      "text/plain": [
       "Series([], dtype: object)"
      ]
     },
     "execution_count": 45,
     "metadata": {},
     "output_type": "execute_result"
    }
   ],
   "source": [
    "print_not_numeric_vals(y)"
   ]
  },
  {
   "cell_type": "markdown",
   "metadata": {},
   "source": []
  },
  {
   "cell_type": "code",
   "execution_count": 49,
   "metadata": {},
   "outputs": [],
   "source": [
    "import pandas as pd\n",
    "\n",
    "data = {'A': [1, 2, 3], 'B': [4, 5, 6]}\n",
    "df = pd.DataFrame(data)\n",
    "\n",
    "# Write the DataFrame to a CSV file\n",
    "df.to_csv('data.csv', index=False)\n"
   ]
  }
 ],
 "metadata": {
  "kernelspec": {
   "display_name": "rotem",
   "language": "python",
   "name": "python3"
  },
  "language_info": {
   "codemirror_mode": {
    "name": "ipython",
    "version": 3
   },
   "file_extension": ".py",
   "mimetype": "text/x-python",
   "name": "python",
   "nbconvert_exporter": "python",
   "pygments_lexer": "ipython3",
   "version": "3.10.9"
  },
  "orig_nbformat": 4,
  "vscode": {
   "interpreter": {
    "hash": "bb40ffae42b65610f46b35f71b70667b176dced870249b53352709cd278c04c2"
   }
  }
 },
 "nbformat": 4,
 "nbformat_minor": 2
}
