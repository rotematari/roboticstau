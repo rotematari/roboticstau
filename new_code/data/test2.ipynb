{
 "cells": [
  {
   "cell_type": "code",
   "execution_count": 25,
   "metadata": {},
   "outputs": [],
   "source": [
    "from __future__ import print_function\n",
    "import time as t\n",
    "import sys\n",
    "from os import path, getenv\n",
    "from time import time, sleep\n",
    "import numpy as np\n",
    "import argparse\n",
    "\n",
    "# import NatNet client\n",
    "from NatNetClient import NatNetClient\n",
    "#import natnetclient as natnet\n",
    "\n",
    "\n",
    "\n",
    "def receiveNewFrame( frameNumber, markerSetCount, unlabeledMarkersCount, rigidBodyCount, skeletonCount,\n",
    "                    labeledMarkerCount, timecode, timecodeSub, timestamp, isRecording, trackedModelsChanged ):\n",
    "    print( \"Received frame\", frameNumber )\n",
    "\n",
    "# This is a callback function that gets connected to the NatNet client. It is called once per rigid body per frame\n",
    "def receiveRigidBodyFrame( id, position, rotation ):\n",
    "    print( \"Received frame for rigid body\", id )\n",
    "\n",
    "def receiveRigidBodyList( rigidBodyList, stamp ):\n",
    "    pos_l = [] \n",
    "    for (ac_id, pos, quat, valid) in rigidBodyList:\n",
    "        # print(\"rigidBodyList\")\n",
    "        # print(rigidBodyList)\n",
    "        # print(type(rigidBodyList))\n",
    "        # print(len(rigidBodyList))\n",
    "        if not valid:\n",
    "            # skip if rigid body is not valid\n",
    "            continue\n",
    "        \n",
    "        # print('id: ', ac_id, 'pos:', pos, 'quat:', quat) \n",
    " \n",
    "    \n",
    "       \n"
   ]
  },
  {
   "cell_type": "code",
   "execution_count": 27,
   "metadata": {},
   "outputs": [
    {
     "name": "stdout",
     "output_type": "stream",
     "text": [
      "Enter  __createCommandSocket func\n",
      "<socket.socket fd=67, family=AddressFamily.AF_INET, type=SocketKind.SOCK_DGRAM, proto=0, laddr=('0.0.0.0', 34562)>\n",
      "enter sendCommand\n",
      "0\n"
     ]
    },
    {
     "ename": "AttributeError",
     "evalue": "'NatNetClient' object has no attribute 'call'",
     "output_type": "error",
     "traceback": [
      "\u001b[0;31m---------------------------------------------------------------------------\u001b[0m",
      "\u001b[0;31mAttributeError\u001b[0m                            Traceback (most recent call last)",
      "Cell \u001b[0;32mIn[27], line 21\u001b[0m\n\u001b[1;32m     19\u001b[0m natnet\u001b[39m.\u001b[39mrun()\n\u001b[1;32m     20\u001b[0m \u001b[39mfor\u001b[39;00m i \u001b[39min\u001b[39;00m \u001b[39mrange\u001b[39m(\u001b[39m10\u001b[39m):\n\u001b[0;32m---> 21\u001b[0m     marker_data\u001b[39m.\u001b[39mappend(natnet\u001b[39m.\u001b[39;49mcall())\n\u001b[1;32m     24\u001b[0m natnet\u001b[39m.\u001b[39mstop()\n",
      "\u001b[0;31mAttributeError\u001b[0m: 'NatNetClient' object has no attribute 'call'"
     ]
    }
   ],
   "source": [
    "# start natnet interface\n",
    "natnet = NatNetClient(rigidBodyListListener=receiveRigidBodyList,server=\"132.66.51.232\")#rigidBodyListListener=receiveRigidBodyList)\n",
    "\n",
    "\n",
    "\n",
    "keys = ['chest', 'shoulder', 'elbow', 'wrist']\n",
    "chest = 1\n",
    "shoulder = 2\n",
    "elbow = 3\n",
    "wrist = 4\n",
    "\n",
    "# This dictionary matches the rigid body id (key) to it's name (value)\n",
    "motive_matcher = {chest: 'chest',\n",
    "                    shoulder: 'shoulder',\n",
    "                    elbow: 'elbow',\n",
    "                    wrist: 'wrist',\n",
    "                    }\n",
    "marker_data = []\n",
    "natnet.run()\n",
    "for i in range(10):\n",
    "    marker_data.append(natnet.call())\n",
    "\n",
    "\n",
    "natnet.stop()\n",
    "\n",
    "\n"
   ]
  },
  {
   "cell_type": "code",
   "execution_count": 8,
   "metadata": {},
   "outputs": [
    {
     "ename": "IndexError",
     "evalue": "list index out of range",
     "output_type": "error",
     "traceback": [
      "\u001b[0;31m---------------------------------------------------------------------------\u001b[0m",
      "\u001b[0;31mIndexError\u001b[0m                                Traceback (most recent call last)",
      "Cell \u001b[0;32mIn[8], line 4\u001b[0m\n\u001b[1;32m      2\u001b[0m shoulder_data \u001b[39m=\u001b[39m []\n\u001b[1;32m      3\u001b[0m \u001b[39mfor\u001b[39;00m i \u001b[39min\u001b[39;00m \u001b[39miter\u001b[39m(marker_data):\n\u001b[0;32m----> 4\u001b[0m     chest_data\u001b[39m.\u001b[39mappend(i[\u001b[39m0\u001b[39;49m][\u001b[39m1\u001b[39m])\n\u001b[1;32m      5\u001b[0m     shoulder_data\u001b[39m.\u001b[39mappend(i[\u001b[39m1\u001b[39m][\u001b[39m1\u001b[39m])\n",
      "\u001b[0;31mIndexError\u001b[0m: list index out of range"
     ]
    }
   ],
   "source": [
    "chest_data =[]\n",
    "shoulder_data = []\n",
    "for i in iter(marker_data):\n",
    "    chest_data.append(i[0][1])\n",
    "    shoulder_data.append(i[1][1])"
   ]
  },
  {
   "cell_type": "code",
   "execution_count": 19,
   "metadata": {},
   "outputs": [],
   "source": [
    "marker_data = np.array(marker_data)\n"
   ]
  },
  {
   "cell_type": "code",
   "execution_count": 24,
   "metadata": {},
   "outputs": [
    {
     "name": "stdout",
     "output_type": "stream",
     "text": [
      "<NatNetClient.NatNetClient object at 0x7f4498653dc0>\n",
      "Starting Natnet3.x to Ivy interface ...\n",
      "Enter  __createCommandSocket func\n",
      "<socket.socket fd=65, family=AddressFamily.AF_INET, type=SocketKind.SOCK_DGRAM, proto=0, laddr=('0.0.0.0', 57777)>\n",
      "enter sendCommand\n",
      "0\n"
     ]
    }
   ],
   "source": [
    "marker_data\n"
   ]
  }
 ],
 "metadata": {
  "kernelspec": {
   "display_name": "Python 3",
   "language": "python",
   "name": "python3"
  },
  "language_info": {
   "codemirror_mode": {
    "name": "ipython",
    "version": 3
   },
   "file_extension": ".py",
   "mimetype": "text/x-python",
   "name": "python",
   "nbconvert_exporter": "python",
   "pygments_lexer": "ipython3",
   "version": "3.10.4"
  },
  "orig_nbformat": 4
 },
 "nbformat": 4,
 "nbformat_minor": 2
}
