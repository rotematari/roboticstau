{
 "cells": [
  {
   "cell_type": "code",
   "execution_count": 1,
   "metadata": {},
   "outputs": [],
   "source": [
    "from __future__ import print_function\n",
    "import time as t\n",
    "import sys\n",
    "from os import path, getenv\n",
    "from time import time, sleep\n",
    "import numpy as np\n",
    "import argparse\n",
    "\n",
    "# import NatNet client\n",
    "from NatNetClient import NatNetClient\n",
    "#import natnetclient as natnet\n",
    "\n",
    "\n",
    "\n",
    "def receiveNewFrame( frameNumber, markerSetCount, unlabeledMarkersCount, rigidBodyCount, skeletonCount,\n",
    "                    labeledMarkerCount, timecode, timecodeSub, timestamp, isRecording, trackedModelsChanged ):\n",
    "    print( \"Received frame\", frameNumber )\n",
    "\n",
    "# This is a callback function that gets connected to the NatNet client. It is called once per rigid body per frame\n",
    "def receiveRigidBodyFrame( id, position, rotation ):\n",
    "    print( \"Received frame for rigid body\", id )\n",
    "\n",
    "def receiveRigidBodyList( rigidBodyList, stamp ):\n",
    "    pos_l = [] \n",
    "    for (ac_id, pos, quat, valid) in rigidBodyList:\n",
    "        # print(\"rigidBodyList\")\n",
    "        # print(rigidBodyList)\n",
    "        # print(type(rigidBodyList))\n",
    "        # print(len(rigidBodyList))\n",
    "        if not valid:\n",
    "            # skip if rigid body is not valid\n",
    "            continue\n",
    "        \n",
    "        # print('id: ', ac_id, 'pos:', pos, 'quat:', quat) \n",
    " \n",
    "    \n",
    "       \n"
   ]
  },
  {
   "cell_type": "code",
   "execution_count": 168,
   "metadata": {},
   "outputs": [
    {
     "name": "stdout",
     "output_type": "stream",
     "text": [
      "Enter  __createCommandSocket func\n",
      "<socket.socket fd=1948, family=AddressFamily.AF_INET, type=SocketKind.SOCK_DGRAM, proto=0, laddr=('0.0.0.0', 55882)>\n",
      "enter sendCommand\n"
     ]
    }
   ],
   "source": [
    "# start natnet interface\n",
    "natnet = NatNetClient(rigidBodyListListener=receiveRigidBodyList,server=\"132.66.51.232\")#rigidBodyListListener=receiveRigidBodyList)\n",
    "\n",
    "\n",
    "\n",
    "keys = ['chest', 'shoulder', 'elbow', 'wrist']\n",
    "chest = 1\n",
    "shoulder = 2\n",
    "elbow = 3\n",
    "wrist = 4\n",
    "\n",
    "# This dictionary matches the rigid body id (key) to it's name (value)\n",
    "motive_matcher = {chest: 'chest',\n",
    "                    shoulder: 'shoulder',\n",
    "                    elbow: 'elbow',\n",
    "                    wrist: 'wrist',\n",
    "                    }\n",
    "marker_data = []\n",
    "natnet.run()\n",
    "\n",
    "\n",
    "\n",
    "\n",
    "\n"
   ]
  },
  {
   "cell_type": "code",
   "execution_count": 140,
   "metadata": {},
   "outputs": [],
   "source": [
    "for i in range(1):\n",
    "    \n",
    "    marker_data.append(natnet.rigidBodyList)\n",
    "    \n",
    "    new_marker_data = np.array(marker_data)\n",
    "    new_marker_data = np.array(new_marker_data[:,0,1])\n",
    "    x = np.array([np.array([x,y,z]) for x,y,z in new_marker_data])\n",
    "  \n"
   ]
  },
  {
   "cell_type": "code",
   "execution_count": 170,
   "metadata": {},
   "outputs": [],
   "source": [
    "numofr = len(natnet.rigidBodyList)\n",
    "marker_data = natnet.rigidBodyList\n",
    "# new_marker_data = np.array(marker_data)\n",
    "# new_marker_data = np.array(new_marker_data[:,0,1])\n",
    "# x = np.array([np.array([x,y,z]) for x,y,z in new_marker_data])"
   ]
  },
  {
   "cell_type": "code",
   "execution_count": 171,
   "metadata": {},
   "outputs": [
    {
     "data": {
      "text/plain": [
       "'0.7943732142448425,0.013069494627416134,-0.5172591209411621,0.9320070147514343,0.020687514916062355,-0.5605160593986511,'"
      ]
     },
     "execution_count": 171,
     "metadata": {},
     "output_type": "execute_result"
    }
   ],
   "source": [
    "m= []\n",
    "for j in range(len(natnet.rigidBodyList)):\n",
    "  m+=[str(i) for i in marker_data[j][1]]\n",
    "\n",
    "''.join(str(e)+',' for e in m)  "
   ]
  },
  {
   "cell_type": "code",
   "execution_count": 88,
   "metadata": {},
   "outputs": [],
   "source": [
    "x = np.array([np.array([x,y,z]) for x,y,z in new_marker_data])"
   ]
  },
  {
   "cell_type": "code",
   "execution_count": 157,
   "metadata": {},
   "outputs": [
    {
     "data": {
      "text/plain": [
       "'0.025710204616189003'"
      ]
     },
     "execution_count": 157,
     "metadata": {},
     "output_type": "execute_result"
    }
   ],
   "source": [
    "m[1\n",
    "  ]"
   ]
  },
  {
   "cell_type": "code",
   "execution_count": 69,
   "metadata": {},
   "outputs": [
    {
     "data": {
      "text/plain": [
       "-0.5172796249389648"
      ]
     },
     "execution_count": 69,
     "metadata": {},
     "output_type": "execute_result"
    }
   ],
   "source": []
  }
 ],
 "metadata": {
  "kernelspec": {
   "display_name": "Python 3",
   "language": "python",
   "name": "python3"
  },
  "language_info": {
   "codemirror_mode": {
    "name": "ipython",
    "version": 3
   },
   "file_extension": ".py",
   "mimetype": "text/x-python",
   "name": "python",
   "nbconvert_exporter": "python",
   "pygments_lexer": "ipython3",
   "version": "3.7.7"
  },
  "orig_nbformat": 4
 },
 "nbformat": 4,
 "nbformat_minor": 2
}
