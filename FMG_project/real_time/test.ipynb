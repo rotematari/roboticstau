{
 "cells": [
  {
   "cell_type": "code",
   "execution_count": 2,
   "metadata": {},
   "outputs": [],
   "source": [
    "from utils.utils import calculate_vectors, calculate_angles_with_axes\n",
    "from NatnetReader import read_sample,init_natnetClient\n",
    "\n",
    "natnet = init_natnetClient()"
   ]
  },
  {
   "cell_type": "code",
   "execution_count": 3,
   "metadata": {},
   "outputs": [
    {
     "name": "stdout",
     "output_type": "stream",
     "text": [
      "Enter  __createCommandSocket func\n",
      "enter sendCommand\n",
      "\n",
      "Shutting down the NatNet thread.\n",
      "\n"
     ]
    }
   ],
   "source": [
    "from os import listdir\n",
    "from os.path import isfile, join\n",
    "import os \n",
    "import yaml\n",
    "import argparse\n",
    "import pandas as pd\n",
    "\n",
    "# # Get the current directory of the script being run\n",
    "# current_directory = os.path.dirname(os.path.realpath(__file__))\n",
    "\n",
    "# # Navigate up  directori\n",
    "# parent_directory = os.path.abspath(os.path.join(current_directory, os.pardir))\n",
    "# # Change the working directory\n",
    "# os.chdir(parent_directory)\n",
    "\n",
    "with open(r'/home/robotics20/roboticstau/FMG_project/config.yaml', 'r') as f:\n",
    "    args = yaml.safe_load(f)\n",
    "\n",
    "\n",
    "    config = argparse.Namespace(**args)\n",
    "\n",
    "natnet.run()\n",
    "natnet.stop()"
   ]
  },
  {
   "cell_type": "code",
   "execution_count": 103,
   "metadata": {},
   "outputs": [
    {
     "data": {
      "text/plain": [
       "{'chest': [(-0.22282129526138306, 0.710070788860321, -0.08089622855186462),\n",
       "  (-0.2228354811668396, 0.7100827693939209, -0.08090332895517349),\n",
       "  (-0.22284628450870514, 0.7100564241409302, -0.08089721947908401)],\n",
       " 'shoulder': [(-0.33872267603874207, 0.546985387802124, -0.0686420276761055),\n",
       "  (-0.33872443437576294, 0.5469849109649658, -0.06864830106496811),\n",
       "  (-0.338720440864563, 0.5469600558280945, -0.06864866614341736)],\n",
       " 'elbow': [(-0.35450997948646545, 0.4206896722316742, -0.0458967462182045),\n",
       "  (-0.3545161783695221, 0.4206886887550354, -0.0459086149930954),\n",
       "  (-0.3545415997505188, 0.42062321305274963, -0.04592782258987427)],\n",
       " 'wrist': [(0.0, -0.0, 0.0), (0.0, -0.0, 0.0), (0.0, -0.0, 0.0)]}"
      ]
     },
     "execution_count": 103,
     "metadata": {},
     "output_type": "execute_result"
    }
   ],
   "source": [
    "\n",
    "\n",
    "read_sample(config,natnet=natnet)\n"
   ]
  },
  {
   "cell_type": "code",
   "execution_count": null,
   "metadata": {},
   "outputs": [],
   "source": [
    "locations['chest']"
   ]
  },
  {
   "cell_type": "code",
   "execution_count": 84,
   "metadata": {},
   "outputs": [
    {
     "data": {
      "text/plain": [
       "[(2,\n",
       "  (-0.3387455940246582, 0.5470760464668274, -0.06866616755723953),\n",
       "  (-0.6380079984664917,\n",
       "   0.06786216050386429,\n",
       "   0.7385488152503967,\n",
       "   -0.20708994567394257),\n",
       "  True),\n",
       " (1,\n",
       "  (-0.22301900386810303, 0.710172712802887, -0.08083724230527878),\n",
       "  (0.9899887442588806,\n",
       "   -0.11004545539617538,\n",
       "   -0.03750329092144966,\n",
       "   -0.08003666251897812),\n",
       "  True),\n",
       " (3,\n",
       "  (-0.35458943247795105, 0.42087894678115845, -0.04580443352460861),\n",
       "  (0.14587026834487915,\n",
       "   0.20712082087993622,\n",
       "   0.21428079903125763,\n",
       "   -0.9433486461639404),\n",
       "  True),\n",
       " (4, (0.0, -0.0, 0.0), (0.0, -0.0, 0.0, 1.0), False)]"
      ]
     },
     "execution_count": 84,
     "metadata": {},
     "output_type": "execute_result"
    }
   ],
   "source": [
    "natnet.rigidBodyList"
   ]
  },
  {
   "cell_type": "code",
   "execution_count": 39,
   "metadata": {},
   "outputs": [
    {
     "ename": "TypeError",
     "evalue": "unhashable type: 'list'",
     "output_type": "error",
     "traceback": [
      "\u001b[0;31m---------------------------------------------------------------------------\u001b[0m",
      "\u001b[0;31mTypeError\u001b[0m                                 Traceback (most recent call last)",
      "Cell \u001b[0;32mIn[39], line 1\u001b[0m\n\u001b[0;32m----> 1\u001b[0m \u001b[43mcalculate_vectors\u001b[49m\u001b[43m(\u001b[49m\u001b[43mlocations\u001b[49m\u001b[43m)\u001b[49m\n",
      "File \u001b[0;32m~/roboticstau/FMG_project/real_time/utils/utils.py:33\u001b[0m, in \u001b[0;36mcalculate_vectors\u001b[0;34m(data)\u001b[0m\n\u001b[1;32m     32\u001b[0m \u001b[38;5;28;01mdef\u001b[39;00m \u001b[38;5;21mcalculate_vectors\u001b[39m(locatios):\n\u001b[0;32m---> 33\u001b[0m     MC \u001b[38;5;241m=\u001b[39m locatios[\u001b[38;5;124m'\u001b[39m\u001b[38;5;124mchest\u001b[39m\u001b[38;5;124m'\u001b[39m]\u001b[38;5;241m.\u001b[39mvalues\n\u001b[1;32m     34\u001b[0m     MS \u001b[38;5;241m=\u001b[39m locatios[\u001b[38;5;124m'\u001b[39m\u001b[38;5;124mshoulder\u001b[39m\u001b[38;5;124m'\u001b[39m]\u001b[38;5;241m.\u001b[39mvalues\n\u001b[1;32m     35\u001b[0m     ME \u001b[38;5;241m=\u001b[39m locatios[\u001b[38;5;124m'\u001b[39m\u001b[38;5;124melbow\u001b[39m\u001b[38;5;124m'\u001b[39m]\u001b[38;5;241m.\u001b[39mvalues\n",
      "\u001b[0;31mTypeError\u001b[0m: unhashable type: 'list'"
     ]
    }
   ],
   "source": [
    "calculate_vectors(locations)"
   ]
  },
  {
   "cell_type": "code",
   "execution_count": null,
   "metadata": {},
   "outputs": [],
   "source": []
  }
 ],
 "metadata": {
  "kernelspec": {
   "display_name": "Python 3",
   "language": "python",
   "name": "python3"
  },
  "language_info": {
   "codemirror_mode": {
    "name": "ipython",
    "version": 3
   },
   "file_extension": ".py",
   "mimetype": "text/x-python",
   "name": "python",
   "nbconvert_exporter": "python",
   "pygments_lexer": "ipython3",
   "version": "3.11.7"
  }
 },
 "nbformat": 4,
 "nbformat_minor": 2
}
