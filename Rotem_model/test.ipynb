{
 "cells": [
  {
   "cell_type": "code",
   "execution_count": 2,
   "metadata": {},
   "outputs": [
    {
     "data": {
      "text/plain": [
       "50"
      ]
     },
     "execution_count": 2,
     "metadata": {},
     "output_type": "execute_result"
    }
   ],
   "source": [
    "101//2"
   ]
  },
  {
   "cell_type": "code",
   "execution_count": 7,
   "metadata": {},
   "outputs": [],
   "source": [
    "fully_connected = []\n",
    "current_size = 128*2\n",
    "while current_size//2 >= 9:\n",
    "    hidden_size = current_size//2\n",
    "    fully_connected.append([current_size,hidden_size])\n",
    "    fully_connected.append(\"yes\")\n",
    "\n",
    "    current_size = hidden_size\n",
    "\n",
    "fully_connected.append([current_size,9])"
   ]
  },
  {
   "cell_type": "code",
   "execution_count": 8,
   "metadata": {},
   "outputs": [
    {
     "data": {
      "text/plain": [
       "[[256, 128],\n",
       " 'yes',\n",
       " [128, 64],\n",
       " 'yes',\n",
       " [64, 32],\n",
       " 'yes',\n",
       " [32, 16],\n",
       " 'yes',\n",
       " [16, 9]]"
      ]
     },
     "execution_count": 8,
     "metadata": {},
     "output_type": "execute_result"
    }
   ],
   "source": [
    "fully_connected"
   ]
  }
 ],
 "metadata": {
  "kernelspec": {
   "display_name": "Python 3",
   "language": "python",
   "name": "python3"
  },
  "language_info": {
   "codemirror_mode": {
    "name": "ipython",
    "version": 3
   },
   "file_extension": ".py",
   "mimetype": "text/x-python",
   "name": "python",
   "nbconvert_exporter": "python",
   "pygments_lexer": "ipython3",
   "version": "3.11.7"
  }
 },
 "nbformat": 4,
 "nbformat_minor": 2
}
